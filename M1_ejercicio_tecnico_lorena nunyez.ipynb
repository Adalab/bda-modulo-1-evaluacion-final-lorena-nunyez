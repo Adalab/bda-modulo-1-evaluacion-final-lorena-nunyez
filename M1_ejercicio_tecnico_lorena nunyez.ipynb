{
 "cells": [
  {
   "cell_type": "markdown",
   "metadata": {},
   "source": [
    "# Al turrón!!"
   ]
  },
  {
   "cell_type": "code",
   "execution_count": 26,
   "metadata": {},
   "outputs": [],
   "source": [
    "import re \n",
    "\n",
    "# Clase Producto para representar cada obra\n",
    "class Producto:\n",
    "    def __init__(self, nombre, precio, cantidad):\n",
    "        self.nombre = nombre\n",
    "        self.precio = precio\n",
    "        self.cantidad = cantidad\n",
    "\n",
    "# Clase Inventario para gestionar los productos\n",
    "class Inventario:\n",
    "    def __init__(self):\n",
    "        self.productos = {}  # Diccionario: clave -> nombre del producto, valor -> objeto Producto\n",
    "\n",
    "    def agregar_producto(self, nombre, precio, cantidad):\n",
    "        if nombre in self.productos:\n",
    "            self.productos[nombre].cantidad += cantidad\n",
    "        else:\n",
    "            self.productos[nombre] = Producto(nombre, precio, cantidad)\n",
    "\n",
    "    def eliminar_producto(self, nombre):\n",
    "        if nombre in self.productos:\n",
    "            del self.productos[nombre]\n",
    "        else:\n",
    "            print(f\"El producto '{nombre}' no existe en el inventario.\")\n",
    "\n",
    "    def actualizar_stock(self, nombre, cantidad):\n",
    "        if nombre in self.productos:\n",
    "            self.productos[nombre].cantidad = cantidad\n",
    "        else:\n",
    "            print(f\"El producto '{nombre}' no existe en el inventario.\")\n",
    "\n",
    "    def buscar_producto(self, patron):\n",
    "        patron_regex = re.compile(patron, re.IGNORECASE)  # Patrón regex\n",
    "        encontrados = [p for p in self.productos if patron_regex.search(p)]\n",
    "        return encontrados if encontrados else \"No se encontraron coincidencias.\"\n",
    "\n",
    "    def ver_inventario(self):\n",
    "        if not self.productos:\n",
    "            print(\"El inventario está vacío.\")\n",
    "        for p in self.productos.values():\n",
    "            print(f\"NOMBRE: {p.nombre}, PRECIO: {p.precio}, CANTIDAD: {p.cantidad}\")\n",
    "\n",
    "    def calcular_valor_total(self):\n",
    "        return sum(p.precio * p.cantidad for p in self.productos.values())"
   ]
  },
  {
   "cell_type": "code",
   "execution_count": 27,
   "metadata": {},
   "outputs": [],
   "source": [
    "# Clase Cliente para gestionar clientes\n",
    "class Cliente:\n",
    "    def __init__(self):\n",
    "        self.clientes = {}  # Diccionario: clave -> email, valor -> datos cliente\n",
    "\n",
    "    def agregar_cliente(self, nombre, email, compras):\n",
    "        if email not in self.clientes:\n",
    "            self.clientes[email] = {'nombre': nombre, 'compras': compras}\n",
    "        else:\n",
    "            self.clientes[email]['compras'] += compras\n",
    "\n",
    "    def ver_clientes(self):\n",
    "        for email, datos in self.clientes.items():\n",
    "            print(f\"EMAIL: {email}, NOMBRE: {datos['nombre']}, COMPRAS: {datos['compras']}\")\n"
   ]
  },
  {
   "cell_type": "code",
   "execution_count": 28,
   "metadata": {},
   "outputs": [],
   "source": [
    "def ver_inventario(self):\n",
    "    for producto in self.inventario:\n",
    "        print(f\"NOMBRE:{producto['nombre']},PRECIO:{producto['precio']},CANTIDAD:{producto['cantidad']}\")"
   ]
  },
  {
   "cell_type": "code",
   "execution_count": 29,
   "metadata": {},
   "outputs": [],
   "source": [
    "# Clase TiendaOnline para integrar todo\n",
    "class TiendaOnline:\n",
    "    def __init__(self):\n",
    "        self.inventario = Inventario()\n",
    "        self.clientes = Cliente()\n",
    "        self.ventas_totales = 0.0\n",
    "\n",
    "    def realizar_compra(self, email_cliente, nombre_producto, cantidad):\n",
    "        producto = self.inventario.productos.get(nombre_producto)\n",
    "        if producto and producto.cantidad >= cantidad:\n",
    "            total = producto.precio * cantidad\n",
    "            producto.cantidad -= cantidad\n",
    "            self.ventas_totales += total\n",
    "            self.clientes.agregar_cliente(email_cliente.split('@')[0], email_cliente, total)\n",
    "            print(f\"Compra realizada: {nombre_producto} x{cantidad}. Total: {total:.2f}\")\n",
    "        else:\n",
    "            print(f\"Compra no realizada. Stock insuficiente o producto inexistente.\")"
   ]
  },
  {
   "cell_type": "code",
   "execution_count": 30,
   "metadata": {},
   "outputs": [
    {
     "name": "stdout",
     "output_type": "stream",
     "text": [
      "\n",
      "--- Inventario inicial ---\n",
      "NOMBRE: Maruja_Mallo, PRECIO: 20000.0, CANTIDAD: 7\n",
      "NOMBRE: Yayoi_Kusama, PRECIO: 100000.0, CANTIDAD: 11\n",
      "NOMBRE: Louise_Bourgeois, PRECIO: 63000.0, CANTIDAD: 2\n",
      "NOMBRE: Marina_Abramovic, PRECIO: 170000.0, CANTIDAD: 6\n",
      "NOMBRE: Joana_Vasconcelos, PRECIO: 86000.0, CANTIDAD: 18\n",
      "\n",
      "--- Buscar productos por patrón 'a' ---\n",
      "['Maruja_Mallo', 'Yayoi_Kusama', 'Marina_Abramovic', 'Joana_Vasconcelos']\n",
      "\n",
      "--- Realizar compra ---\n",
      "Compra no realizada. Stock insuficiente o producto inexistente.\n",
      "\n",
      "--- Clientes registrados ---\n",
      "\n",
      "--- Valor total del inventario ---\n",
      "Valor total: 3934000.00\n",
      "\n",
      "--- Actualizar stock ---\n",
      "NOMBRE: Maruja_Mallo, PRECIO: 20000.0, CANTIDAD: 7\n",
      "NOMBRE: Yayoi_Kusama, PRECIO: 100000.0, CANTIDAD: 15\n",
      "NOMBRE: Louise_Bourgeois, PRECIO: 63000.0, CANTIDAD: 2\n",
      "NOMBRE: Marina_Abramovic, PRECIO: 170000.0, CANTIDAD: 6\n",
      "NOMBRE: Joana_Vasconcelos, PRECIO: 86000.0, CANTIDAD: 18\n",
      "\n",
      "--- Eliminar producto ---\n",
      "NOMBRE: Yayoi_Kusama, PRECIO: 100000.0, CANTIDAD: 15\n",
      "NOMBRE: Louise_Bourgeois, PRECIO: 63000.0, CANTIDAD: 2\n",
      "NOMBRE: Marina_Abramovic, PRECIO: 170000.0, CANTIDAD: 6\n",
      "NOMBRE: Joana_Vasconcelos, PRECIO: 86000.0, CANTIDAD: 18\n"
     ]
    }
   ],
   "source": [
    "# Prueba funcionamiento\n",
    "def main():\n",
    "    tienda = TiendaOnline()\n",
    "\n",
    "# Agregar productos al inventario\n",
    "    tienda.inventario.agregar_producto('Maruja_Mallo', 20000.00, 7)\n",
    "    tienda.inventario.agregar_producto('Yayoi_Kusama', 100000.00, 11)\n",
    "    tienda.inventario.agregar_producto('Louise_Bourgeois', 63000.00, 2)\n",
    "    tienda.inventario.agregar_producto('Marina_Abramovic', 170000.00, 6)\n",
    "    tienda.inventario.agregar_producto('Joana_Vasconcelos', 86000.00, 18)\n",
    "\n",
    "# Ver inventario\n",
    "    print(\"\\n--- Inventario inicial ---\")\n",
    "    tienda.inventario.ver_inventario()\n",
    "\n",
    "# Buscar productos\n",
    "    print(\"\\n--- Buscar productos por patrón 'a' ---\")\n",
    "    print(tienda.inventario.buscar_producto(r'a'))\n",
    "\n",
    "# Realizar compra\n",
    "    print(\"\\n--- Realizar compra ---\")\n",
    "    tienda.realizar_compra('dali@paint.com', 'Georgia_oKeffe', 2)\n",
    "\n",
    "# Ver clientes\n",
    "    print(\"\\n--- Clientes registrados ---\")\n",
    "    tienda.clientes.ver_clientes()\n",
    "\n",
    "# Calcular valor del inventario\n",
    "    print(\"\\n--- Valor total del inventario ---\")\n",
    "    print(f\"Valor total: {tienda.inventario.calcular_valor_total():.2f}\")\n",
    "\n",
    "# Actualizar stock\n",
    "    print(\"\\n--- Actualizar stock ---\")\n",
    "    tienda.inventario.actualizar_stock('Yayoi_Kusama', 15)\n",
    "    tienda.inventario.ver_inventario()\n",
    "\n",
    "# Eliminar producto\n",
    "    print(\"\\n--- Eliminar producto ---\")\n",
    "    tienda.inventario.eliminar_producto('Maruja_Mallo')\n",
    "    tienda.inventario.ver_inventario()\n",
    "\n",
    "if __name__ == \"__main__\":\n",
    "    main()"
   ]
  },
  {
   "cell_type": "markdown",
   "metadata": {},
   "source": [
    "..."
   ]
  }
 ],
 "metadata": {
  "kernelspec": {
   "display_name": "Python 3",
   "language": "python",
   "name": "python3"
  },
  "language_info": {
   "codemirror_mode": {
    "name": "ipython",
    "version": 3
   },
   "file_extension": ".py",
   "mimetype": "text/x-python",
   "name": "python",
   "nbconvert_exporter": "python",
   "pygments_lexer": "ipython3",
   "version": "3.9.6"
  }
 },
 "nbformat": 4,
 "nbformat_minor": 2
}
