{
 "cells": [
  {
   "cell_type": "markdown",
   "metadata": {},
   "source": [
    "# Al turrón!!"
   ]
  },
  {
   "cell_type": "markdown",
   "metadata": {},
   "source": [
    "# La referencia para la sintaxis de este código ha sido la convención PascalCase."
   ]
  },
  {
   "cell_type": "code",
   "execution_count": 123,
   "metadata": {},
   "outputs": [],
   "source": [
    "# Clase Inventario como diccionario de diccionarios\n",
    "class Inventario:\n",
    "    def __init__(self):\n",
    "        self.inventario = {}  \n",
    "\n",
    "    def agregar_inventario(self, nombre, precio, cantidad):\n",
    "        self.inventario[nombre] = {'precio': precio, 'cantidad': cantidad}\n",
    "\n",
    "# Crear instancia y agregar productos\n",
    "inventario = Inventario()\n",
    "inventario.agregar_inventario('Georgia_oKeffe', 12000.00, 14)\n",
    "inventario.agregar_inventario('Maruja_Mallo', 20000.00, 7)\n",
    "inventario.agregar_inventario('Yayoi_Kusama', 100000.00, 11)\n",
    "inventario.agregar_inventario('Rosa_Bonheur', 75000.00, 4)\n",
    "inventario.agregar_inventario('Louise_Bourgeois', 63000.00, 2)\n",
    "inventario.agregar_inventario('Marina_Abramovic', 170000.00, 6)\n",
    "inventario.agregar_inventario('Joana_Vasconcelos', 86000.00, 18)\n",
    "\n",
    "\n",
    "# Clase Cliente como lista de diccionarios\n",
    "class Cliente:\n",
    "    def __init__(self):\n",
    "        self.clientes = []  # Lista para almacenar clientes\n",
    "\n",
    "    def agregar_cliente(self, nombre, email, compras):\n",
    "        self.clientes.append({'nombre': nombre, 'email': email, 'compras': compras})\n",
    "\n",
    "# Crear instancia y agregar clientes\n",
    "cliente = Cliente()\n",
    "cliente.agregar_cliente('Dali', 'dali@paint.com', 5)\n",
    "cliente.agregar_cliente('Kandinsky', 'kandinsky@paint.com', 2)\n",
    "cliente.agregar_cliente('Goya', 'goya@paint.com', 1)\n",
    "\n",
    "\n",
    "class TiendaOnline:\n",
    "    def __init__ (self):\n",
    "        self.inventario = Inventario() #lista de diccionarios\n",
    "        self.clientes = Cliente() #diccionario de diccionarios\n",
    "        self.ventas_totales = 0.0 #float"
   ]
  },
  {
   "cell_type": "code",
   "execution_count": 124,
   "metadata": {},
   "outputs": [],
   "source": [
    "class TiendaOnline:\n",
    "    def __init__ (self):\n",
    "        self.inventario = [Producto] #lista de diccionarios\n",
    "        self.clientes =  {Cliente} #diccionario de diccionarios\n",
    "        self.ventas_totales = 0.0 #float\n"
   ]
  },
  {
   "cell_type": "code",
   "execution_count": null,
   "metadata": {},
   "outputs": [],
   "source": [
    "# ventas_totales\n"
   ]
  },
  {
   "cell_type": "markdown",
   "metadata": {},
   "source": [
    "1. agregar_producto"
   ]
  },
  {
   "cell_type": "code",
   "execution_count": 125,
   "metadata": {},
   "outputs": [],
   "source": [
    "def agregar_producto(self, nombre, precio, cantidad):\n",
    "    for producto in self.inventario:\n",
    "        if producto['nombre'] == nombre:producto['cantidad'] += cantidad \n",
    "        return\n",
    "    self.inventario.append({'nombre':nombre,'precio':precio,'cantidad':cantidad})\n"
   ]
  },
  {
   "cell_type": "markdown",
   "metadata": {},
   "source": [
    "2. ver_inventario"
   ]
  },
  {
   "cell_type": "code",
   "execution_count": 126,
   "metadata": {},
   "outputs": [],
   "source": [
    "def ver_inventario(self):\n",
    "    for producto in self.inventario:\n",
    "        print(f\"NOMBRE:{producto['nombre']},PRECIO:{producto['precio']},CANTIDAD:{producto['cantidad']}\")"
   ]
  },
  {
   "cell_type": "markdown",
   "metadata": {},
   "source": [
    "3. buscar_producto  elemento in lista¿?"
   ]
  },
  {
   "cell_type": "code",
   "execution_count": 128,
   "metadata": {},
   "outputs": [],
   "source": [
    "def buscar_producto(self):\n",
    "    for producto in self.inventario:\n",
    "        if inventario == producto:\n",
    "            print(f\"NOMBRE:{producto['nombre']}\")\n",
    "        else:\n",
    "            print('not_product')\n"
   ]
  },
  {
   "cell_type": "markdown",
   "metadata": {},
   "source": [
    "4. actualizar_stock"
   ]
  },
  {
   "cell_type": "code",
   "execution_count": 129,
   "metadata": {},
   "outputs": [
    {
     "ename": "SyntaxError",
     "evalue": "invalid syntax (2767283647.py, line 5)",
     "output_type": "error",
     "traceback": [
      "\u001b[0;36m  Cell \u001b[0;32mIn[129], line 5\u001b[0;36m\u001b[0m\n\u001b[0;31m    else producto['nombre'] == nombre:\u001b[0m\n\u001b[0m         ^\u001b[0m\n\u001b[0;31mSyntaxError\u001b[0m\u001b[0;31m:\u001b[0m invalid syntax\n"
     ]
    }
   ],
   "source": [
    "def actualizar_stock(self, nombre, cantidad):\n",
    "    for producto in self.inventario:\n",
    "        if producto['nombre'] == nombre:\n",
    "           producto['cantidad'] == cantidad \n",
    "        else producto['nombre'] == nombre:\n",
    "            producto['cantidad'] != cantidad \n",
    "            producto['cantidad'] += cantidad \n",
    "    print(f'Stock actualizado:' cantidad)\n",
    "            \n"
   ]
  },
  {
   "cell_type": "markdown",
   "metadata": {},
   "source": [
    "5. eliminar_producto"
   ]
  },
  {
   "cell_type": "code",
   "execution_count": 130,
   "metadata": {},
   "outputs": [],
   "source": [
    "def eliminar_producto(self):\n",
    "    for producto in self.inventario:\n",
    "        if producto['nombre'] == nombre:\n",
    "            self.invnetario.remove(producto)\n",
    "    print(f'producto eliminado')\n",
    "#uso de remove, para eliminar producto"
   ]
  },
  {
   "cell_type": "markdown",
   "metadata": {},
   "source": [
    "6. calcular_valor_inventario"
   ]
  },
  {
   "cell_type": "code",
   "execution_count": 131,
   "metadata": {},
   "outputs": [],
   "source": [
    "def calcular_valor_inventario(self):\n",
    "    valor_inventario = 0\n",
    "    for product in self.inventario:\n",
    "        valor_inventario += producto['precio'] * producto['cantidad']\n",
    "    print(f'Valor total del inventario: {valor_inventario}')\n",
    "#cómo hacer sumatorio, con += va añadiendo el resultado de\n",
    "#operación de cada producto"
   ]
  },
  {
   "cell_type": "markdown",
   "metadata": {},
   "source": [
    "7. realizar_compra"
   ]
  },
  {
   "cell_type": "code",
   "execution_count": 133,
   "metadata": {},
   "outputs": [
    {
     "ename": "SyntaxError",
     "evalue": "invalid syntax (2016886990.py, line 6)",
     "output_type": "error",
     "traceback": [
      "\u001b[0;36m  Cell \u001b[0;32mIn[133], line 6\u001b[0;36m\u001b[0m\n\u001b[0;31m    if producto.lower() == 'cerrar'\u001b[0m\n\u001b[0m                                   ^\u001b[0m\n\u001b[0;31mSyntaxError\u001b[0m\u001b[0;31m:\u001b[0m invalid syntax\n"
     ]
    }
   ],
   "source": [
    "def realizar_compra(self):\n",
    "    carrito = {}\n",
    "    while True:\n",
    "        self.ver_inventario()\n",
    "        producto = input ('nombre_artista')\n",
    "        if producto.lower() == 'cerrar'\n",
    "            break\n",
    "    cantidad = int(input('cuadros a comprar')\n",
    "        for item in self.inventario:"
   ]
  },
  {
   "cell_type": "markdown",
   "metadata": {},
   "source": [
    "8. ..."
   ]
  },
  {
   "cell_type": "code",
   "execution_count": null,
   "metadata": {},
   "outputs": [],
   "source": []
  }
 ],
 "metadata": {
  "kernelspec": {
   "display_name": "Python 3",
   "language": "python",
   "name": "python3"
  },
  "language_info": {
   "codemirror_mode": {
    "name": "ipython",
    "version": 3
   },
   "file_extension": ".py",
   "mimetype": "text/x-python",
   "name": "python",
   "nbconvert_exporter": "python",
   "pygments_lexer": "ipython3",
   "version": "3.9.6"
  }
 },
 "nbformat": 4,
 "nbformat_minor": 2
}
